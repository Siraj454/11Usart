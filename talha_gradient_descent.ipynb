{
  "nbformat": 4,
  "nbformat_minor": 0,
  "metadata": {
    "colab": {
      "name": "talha_gradient_descent.ipynb",
      "provenance": [],
      "collapsed_sections": [],
      "include_colab_link": true
    },
    "kernelspec": {
      "name": "python3",
      "display_name": "Python 3"
    },
    "language_info": {
      "name": "python"
    }
  },
  "cells": [
    {
      "cell_type": "markdown",
      "metadata": {
        "id": "view-in-github",
        "colab_type": "text"
      },
      "source": [
        "<a href=\"https://colab.research.google.com/github/Siraj454/11Usart/blob/master/talha_gradient_descent.ipynb\" target=\"_parent\"><img src=\"https://colab.research.google.com/assets/colab-badge.svg\" alt=\"Open In Colab\"/></a>"
      ]
    },
    {
      "cell_type": "code",
      "metadata": {
        "colab": {
          "base_uri": "https://localhost:8080/"
        },
        "id": "zn0uwXDsk7zY",
        "outputId": "6ba42073-aaec-4386-b16b-31ffcc6d3665"
      },
      "source": [
        "import numpy as np\n",
        "iterations=[]\n",
        "cur_x = 1 # The algorithm starts at x=1\n",
        "rate = 0.01 # Learning rate\n",
        "precision = 0.001 #This tells us when to stop the algorithm\n",
        "previous_step_size = 1 #store current value of x\n",
        "max_iters = 100 # maximum number of iterations\n",
        "iters = 0 #iteration counter\n",
        "df = lambda x: x**4\n",
        "dfx=lambda x: x*4\n",
        "while previous_step_size > precision and iters < max_iters:\n",
        "    prev_x = cur_x #Store current x value in prev_x\n",
        "    \n",
        "    cur_x = cur_x - rate * dfx(prev_x) #Grad descent\n",
        "    \n",
        "    previous_step_size = abs(cur_x - prev_x) #Change in x\n",
        "    iters = iters+1 #iteration count\n",
        "    print(\"Iteration\",iters,\"\\nX value is\",cur_x)\n",
        "    print(\"Value of f(x)\",df(cur_x))\n"
      ],
      "execution_count": 30,
      "outputs": [
        {
          "output_type": "stream",
          "text": [
            "Iteration 1 \n",
            "X value is 0.96\n",
            "Value of f(x) 0.8493465599999999\n",
            "Iteration 2 \n",
            "X value is 0.9216\n",
            "Value of f(x) 0.7213895789838335\n",
            "Iteration 3 \n",
            "X value is 0.884736\n",
            "Value of f(x) 0.6127097573297673\n",
            "Iteration 4 \n",
            "X value is 0.84934656\n",
            "Value of f(x) 0.5204029246664726\n",
            "Iteration 5 \n",
            "X value is 0.8153726976\n",
            "Value of f(x) 0.4420024338794077\n",
            "Iteration 6 \n",
            "X value is 0.782757789696\n",
            "Value of f(x) 0.37541324672710236\n",
            "Iteration 7 \n",
            "X value is 0.7514474781081599\n",
            "Value of f(x) 0.3188559496860956\n",
            "Iteration 8 \n",
            "X value is 0.7213895789838335\n",
            "Value of f(x) 0.2708192040014183\n",
            "Iteration 9 \n",
            "X value is 0.6925339958244802\n",
            "Value of f(x) 0.23001935930054287\n",
            "Iteration 10 \n",
            "X value is 0.664832635991501\n",
            "Value of f(x) 0.19536615155532014\n",
            "Iteration 11 \n",
            "X value is 0.638239330551841\n",
            "Value of f(x) 0.16593356876394988\n",
            "Iteration 12 \n",
            "X value is 0.6127097573297674\n",
            "Value of f(x) 0.1409351058181843\n",
            "Iteration 13 \n",
            "X value is 0.5882013670365767\n",
            "Value of f(x) 0.11970274730991079\n",
            "Iteration 14 \n",
            "X value is 0.5646733123551136\n",
            "Value of f(x) 0.10166911665022202\n",
            "Iteration 15 \n",
            "X value is 0.5420863798609091\n",
            "Value of f(x) 0.08635231448510482\n",
            "Iteration 16 \n",
            "X value is 0.5204029246664728\n",
            "Value of f(x) 0.07334304125596194\n",
            "Iteration 17 \n",
            "X value is 0.49958680767981384\n",
            "Value of f(x) 0.06229365979068935\n",
            "Iteration 18 \n",
            "X value is 0.4796033353726213\n",
            "Value of f(x) 0.05290890565303232\n",
            "Iteration 19 \n",
            "X value is 0.46041920195771646\n",
            "Value of f(x) 0.04493799700976756\n",
            "Iteration 20 \n",
            "X value is 0.4420024338794078\n",
            "Value of f(x) 0.03816793317353637\n",
            "Iteration 21 \n",
            "X value is 0.42432233652423146\n",
            "Value of f(x) 0.03241780274325299\n",
            "Iteration 22 \n",
            "X value is 0.4073494430632622\n",
            "Value of f(x) 0.02753394924274049\n",
            "Iteration 23 \n",
            "X value is 0.3910554653407317\n",
            "Value of f(x) 0.02338586507253624\n",
            "Iteration 24 \n",
            "X value is 0.37541324672710247\n",
            "Value of f(x) 0.01986270405198281\n",
            "Iteration 25 \n",
            "X value is 0.3603967168580184\n",
            "Value of f(x) 0.016870319358849663\n",
            "Iteration 26 \n",
            "X value is 0.3459808481836977\n",
            "Value of f(x) 0.014328747713540372\n",
            "Iteration 27 \n",
            "X value is 0.33214161425634975\n",
            "Value of f(x) 0.012170072579603376\n",
            "Iteration 28 \n",
            "X value is 0.31885594968609576\n",
            "Value of f(x) 0.010336609280436455\n",
            "Iteration 29 \n",
            "X value is 0.3061017116986519\n",
            "Value of f(x) 0.008779363534402776\n",
            "Iteration 30 \n",
            "X value is 0.29385764323070585\n",
            "Value of f(x) 0.007456722216934441\n",
            "Iteration 31 \n",
            "X value is 0.2821033375014776\n",
            "Value of f(x) 0.006333341363828839\n",
            "Iteration 32 \n",
            "X value is 0.2708192040014185\n",
            "Value of f(x) 0.005379201700673734\n",
            "Iteration 33 \n",
            "X value is 0.2599864358413618\n",
            "Value of f(x) 0.004568806460013387\n",
            "Iteration 34 \n",
            "X value is 0.2495869784077073\n",
            "Value of f(x) 0.003880500050118147\n",
            "Iteration 35 \n",
            "X value is 0.239603499271399\n",
            "Value of f(x) 0.003295889368647676\n",
            "Iteration 36 \n",
            "X value is 0.23001935930054304\n",
            "Value of f(x) 0.002799352297401475\n",
            "Iteration 37 \n",
            "X value is 0.22081858492852133\n",
            "Value of f(x) 0.0023776202440260403\n",
            "Iteration 38 \n",
            "X value is 0.21198584153138048\n",
            "Value of f(x) 0.002019423575249878\n",
            "Iteration 39 \n",
            "X value is 0.20350640787012525\n",
            "Value of f(x) 0.0017151904668213846\n",
            "Iteration 40 \n",
            "X value is 0.19536615155532025\n",
            "Value of f(x) 0.0014567911227395373\n",
            "Iteration 41 \n",
            "X value is 0.18755150549310745\n",
            "Value of f(x) 0.001237320528737364\n",
            "Iteration 42 \n",
            "X value is 0.18004944527338315\n",
            "Value of f(x) 0.0010509139347004615\n",
            "Iteration 43 \n",
            "X value is 0.17284746746244783\n",
            "Value of f(x) 0.0008925901352939017\n",
            "Iteration 44 \n",
            "X value is 0.16593356876394993\n",
            "Value of f(x) 0.0007581183609018102\n",
            "Iteration 45 \n",
            "X value is 0.15929622601339194\n",
            "Value of f(x) 0.000643905221904791\n",
            "Iteration 46 \n",
            "X value is 0.15292437697285627\n",
            "Value of f(x) 0.000546898685190871\n",
            "Iteration 47 \n",
            "X value is 0.146807401893942\n",
            "Value of f(x) 0.00046450651693538914\n",
            "Iteration 48 \n",
            "X value is 0.14093510581818433\n",
            "Value of f(x) 0.00039452701225665455\n",
            "Iteration 49 \n",
            "X value is 0.13529770158545695\n",
            "Value of f(x) 0.00033509016068726733\n",
            "Iteration 50 \n",
            "X value is 0.12988579352203866\n",
            "Value of f(x) 0.0002846076752695776\n",
            "Iteration 51 \n",
            "X value is 0.12469036178115711\n",
            "Value of f(x) 0.0002417305499398128\n",
            "Iteration 52 \n",
            "X value is 0.11970274730991083\n",
            "Value of f(x) 0.00020531301103828822\n",
            "Iteration 53 \n",
            "X value is 0.1149146374175144\n",
            "Value of f(x) 0.00017438189964861213\n",
            "Iteration 54 \n",
            "X value is 0.11031805192081383\n",
            "Value of f(x) 0.00014811066659281395\n",
            "Iteration 55 \n",
            "X value is 0.10590532984398128\n",
            "Value of f(x) 0.00012579728516991348\n",
            "Iteration 56 \n",
            "X value is 0.10166911665022203\n",
            "Value of f(x) 0.00010684549141640504\n",
            "Iteration 57 \n",
            "X value is 0.09760235198421315\n",
            "Value of f(x) 9.074885058603313e-05\n",
            "Iteration 58 \n",
            "X value is 0.09369825790484462\n",
            "Value of f(x) 7.707722406920123e-05\n",
            "Iteration 59 \n",
            "X value is 0.08995032758865083\n",
            "Value of f(x) 6.546527511752526e-05\n",
            "Iteration 60 \n",
            "X value is 0.0863523144851048\n",
            "Value of f(x) 5.5602706220523685e-05\n",
            "Iteration 61 \n",
            "X value is 0.0828982219057006\n",
            "Value of f(x) 4.7225967255092376e-05\n",
            "Iteration 62 \n",
            "X value is 0.07958229302947258\n",
            "Value of f(x) 4.011121283078534e-05\n",
            "Iteration 63 \n",
            "X value is 0.07639900130829368\n",
            "Value of f(x) 3.40683206352554e-05\n",
            "Iteration 64 \n",
            "X value is 0.07334304125596193\n",
            "Value of f(x) 2.893581093653119e-05\n",
            "Iteration 65 \n",
            "X value is 0.07040931960572346\n",
            "Value of f(x) 2.4576531479753148e-05\n",
            "Iteration 66 \n",
            "X value is 0.06759294682149451\n",
            "Value of f(x) 2.0873992469060038e-05\n",
            "Iteration 67 \n",
            "X value is 0.06488922894863473\n",
            "Value of f(x) 1.7729253697062052e-05\n",
            "Iteration 68 \n",
            "X value is 0.06229365979068934\n",
            "Value of f(x) 1.5058280638966934e-05\n",
            "Iteration 69 \n",
            "X value is 0.05980191339906177\n",
            "Value of f(x) 1.2789698860221167e-05\n",
            "Iteration 70 \n",
            "X value is 0.0574098368630993\n",
            "Value of f(x) 1.0862886730364771e-05\n",
            "Iteration 71 \n",
            "X value is 0.05511344338857533\n",
            "Value of f(x) 9.226355476104967e-06\n",
            "Iteration 72 \n",
            "X value is 0.052908905653032315\n",
            "Value of f(x) 7.836373284966914e-06\n",
            "Iteration 73 \n",
            "X value is 0.05079254942691102\n",
            "Value of f(x) 6.655796692462548e-06\n",
            "Iteration 74 \n",
            "X value is 0.04876084744983458\n",
            "Value of f(x) 5.653078024802444e-06\n",
            "Iteration 75 \n",
            "X value is 0.0468104135518412\n",
            "Value of f(x) 4.801422373777551e-06\n",
            "Iteration 76 \n",
            "X value is 0.044937997009767555\n",
            "Value of f(x) 4.078071576274999e-06\n",
            "Iteration 77 \n",
            "X value is 0.04314047712937685\n",
            "Value of f(x) 3.4636960647429475e-06\n",
            "Iteration 78 \n",
            "X value is 0.04141485804420178\n",
            "Value of f(x) 2.94187833747496e-06\n",
            "Iteration 79 \n",
            "X value is 0.03975826372243371\n",
            "Value of f(x) 2.4986742458728776e-06\n",
            "Iteration 80 \n",
            "X value is 0.03816793317353637\n",
            "Value of f(x) 2.1222403752927234e-06\n",
            "Iteration 81 \n",
            "X value is 0.03664121584659491\n",
            "Value of f(x) 1.8025175622479832e-06\n",
            "Iteration 82 \n",
            "X value is 0.035175567212731115\n",
            "Value of f(x) 1.5309620908349106e-06\n",
            "Iteration 83 \n",
            "X value is 0.03376854452422187\n",
            "Value of f(x) 1.300317385341039e-06\n",
            "Iteration 84 \n",
            "X value is 0.032417802743252996\n",
            "Value of f(x) 1.1044200981476059e-06\n",
            "Iteration 85 \n",
            "X value is 0.031121090633522877\n",
            "Value of f(x) 9.380354111565315e-07\n",
            "Iteration 86 \n",
            "X value is 0.029876247008181964\n",
            "Value of f(x) 7.967171496239858e-07\n",
            "Iteration 87 \n",
            "X value is 0.028681197127854684\n",
            "Value of f(x) 6.766889703261375e-07\n",
            "Iteration 88 \n",
            "X value is 0.027533949242740496\n",
            "Value of f(x) 5.74743449136447e-07\n",
            "Iteration 89 \n",
            "X value is 0.026432591273030877\n",
            "Value of f(x) 4.881563714065763e-07\n",
            "Iteration 90 \n",
            "X value is 0.02537528762210964\n",
            "Value of f(x) 4.1461393479625783e-07\n",
            "Iteration 91 \n",
            "X value is 0.024360276117225257\n",
            "Value of f(x) 3.52150919247266e-07\n",
            "Iteration 92 \n",
            "X value is 0.023385865072536247\n",
            "Value of f(x) 2.9909817186350314e-07\n"
          ],
          "name": "stdout"
        }
      ]
    },
    {
      "cell_type": "code",
      "metadata": {
        "colab": {
          "base_uri": "https://localhost:8080/"
        },
        "id": "p5s5y5b2k83e",
        "outputId": "d956e3bc-0fd3-4226-b0cc-fb6e8c9fe3a2"
      },
      "source": [
        "print(\"The local minimum occurs at\", cur_x)"
      ],
      "execution_count": 10,
      "outputs": [
        {
          "output_type": "stream",
          "text": [
            "The local minimum occurs at 0.023385865072536247\n"
          ],
          "name": "stdout"
        }
      ]
    },
    {
      "cell_type": "code",
      "metadata": {
        "colab": {
          "base_uri": "https://localhost:8080/",
          "height": 265
        },
        "id": "mMoLom7_J0MD",
        "outputId": "3367b5d2-a263-4366-89ce-b39c21bbc22f"
      },
      "source": [
        "import numpy as np\n",
        "import matplotlib.pyplot as plt\n",
        "%matplotlib inline\n",
        "#creating the function and plotting it \n",
        "\n",
        "function = lambda x: x**4\n",
        "\n",
        "#Get 1000 evenly spaced numbers between -1 and 3 (arbitratil chosen to ensure steep curve)\n",
        "x = np.linspace(-1,3,500)\n",
        "\n",
        "#Plot the curve\n",
        "plt.plot(x, function(x))\n",
        "plt.show()"
      ],
      "execution_count": 18,
      "outputs": [
        {
          "output_type": "display_data",
          "data": {
            "image/png": "[encoded data removed]",
            "text/plain": [
              "<Figure size 432x288 with 1 Axes>"
            ]
          },
          "metadata": {
            "tags": [],
            "needs_background": "light"
          }
        }
      ]
    },
    {
      "cell_type": "code",
      "metadata": {
        "id": "ZRuUf8iRKUTG"
      },
      "source": [
        ""
      ],
      "execution_count": null,
      "outputs": []
    },
    {
      "cell_type": "code",
      "metadata": {
        "id": "7aiQ4SnGmfNT"
      },
      "source": [
        "\n",
        "\n",
        "\n",
        "\n",
        "\n",
        "\n",
        "def deriv(x):\n",
        "    x_deriv = 4*x\n",
        "    return x_deriv\n",
        "\n",
        "\n",
        "def step(x_new, x_prev, precision, l_r):\n",
        "    \n",
        "    x_list, y_list = [x_new], [function(x_new)]\n",
        "    # keep looping until your desired precision\n",
        "    while abs(x_new - x_prev) > precision:\n",
        "        \n",
        "        # change the value of x\n",
        "        x_prev = x_new\n",
        "        \n",
        "        # get the derivation of the old value of x\n",
        "        d_x = - deriv(x_prev)\n",
        "        \n",
        "        # get your new value of x by adding the previous, the multiplication of the derivative and the learning rate\n",
        "        x_new = x_prev + (l_r * d_x)\n",
        "        \n",
        "        # append the new value of x to a list of all x-s for later visualization of path\n",
        "        x_list.append(x_new)\n",
        "        \n",
        "        # append the new value of y to a list of all y-s for later visualization of path\n",
        "        y_list.append(function(x_new))\n",
        "\n",
        "    print (\"Local minimum occurs at: \"+ str(x_new))\n",
        "    print (\"Number of steps: \" + str(len(x_list)))\n",
        "    \n",
        "    \n",
        "    plt.subplot(1,2,2)\n",
        "    plt.scatter(x_list,y_list,c=\"g\")\n",
        "    plt.plot(x_list,y_list,c=\"g\")\n",
        "    plt.plot(x,function(x), c=\"r\")\n",
        "    plt.title(\"Gradient descent\")\n",
        "    plt.show()\n",
        "\n",
        "    plt.subplot(1,2,1)\n",
        "    plt.scatter(x_list,y_list,c=\"g\")\n",
        "    plt.plot(x_list,y_list,c=\"g\")\n",
        "    plt.plot(x,function(x), c=\"r\")\n",
        "    plt.xlim([1.0,2.1])\n",
        "    plt.title(\"Zoomed in Gradient descent to Key Area\")\n",
        "    plt.show()"
      ],
      "execution_count": 20,
      "outputs": []
    },
    {
      "cell_type": "code",
      "metadata": {
        "id": "CD5wJukEcorL"
      },
      "source": [
        ""
      ],
      "execution_count": null,
      "outputs": []
    },
    {
      "cell_type": "code",
      "metadata": {
        "colab": {
          "base_uri": "https://localhost:8080/",
          "height": 579
        },
        "id": "E1dLNx-8JwnT",
        "outputId": "754f934b-e822-4911-d00c-6a14c8a92da3"
      },
      "source": [
        "step(1,1.1 , 0.001, 0.05)"
      ],
      "execution_count": 26,
      "outputs": [
        {
          "output_type": "stream",
          "text": [
            "Local minimum occurs at: 0.0037778931862957168\n",
            "Number of steps: 26\n"
          ],
          "name": "stdout"
        },
        {
          "output_type": "display_data",
          "data": {
            "image/png": "[encoded data removed]",
            "text/plain": [
              "<Figure size 432x288 with 1 Axes>"
            ]
          },
          "metadata": {
            "tags": [],
            "needs_background": "light"
          }
        },
        {
          "output_type": "display_data",
          "data": {
            "image/png": "[encoded data removed]",
            "text/plain": [
              "<Figure size 432x288 with 1 Axes>"
            ]
          },
          "metadata": {
            "tags": [],
            "needs_background": "light"
          }
        }
      ]
    }
  ]
}